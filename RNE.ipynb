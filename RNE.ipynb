{
 "cells": [
  {
   "cell_type": "code",
   "execution_count": null,
   "metadata": {},
   "outputs": [],
   "source": [
    "import pandas as pd\n",
    "url= 'https://www.registre-entreprises.tn/search/RCCSearch.do?action=getPage&rg_type=PM&search_mode=NORMAL'\n",
    "ident=input('Donner votre identifiant unique: ') # you can try ident='0031458D'\n",
    "webdriver_path= 'C:\\\\Webdriver\\\\chromedriver.exe' # the path to the folder containing the web driver + the name of the webdriver"
   ]
  },
  {
   "cell_type": "code",
   "execution_count": null,
   "metadata": {},
   "outputs": [],
   "source": [
    "from selenium import webdriver\n",
    "driver = webdriver.Chrome(executable_path=webdriver_path)"
   ]
  },
  {
   "cell_type": "code",
   "execution_count": null,
   "metadata": {},
   "outputs": [],
   "source": [
    "driver.get(url) # accessing the website"
   ]
  },
  {
   "cell_type": "code",
   "execution_count": null,
   "metadata": {},
   "outputs": [],
   "source": [
    "search_by_id= driver.find_element_by_name('searchRegistrePmRcc.registrePm.numPatente') \n",
    "# Getting the text field by using its name (you can also use the xpath like i ve used below)"
   ]
  },
  {
   "cell_type": "code",
   "execution_count": null,
   "metadata": {},
   "outputs": [],
   "source": [
    "search_by_id.send_keys(ident)\n",
    "# Inserting the id into the text field"
   ]
  },
  {
   "cell_type": "markdown",
   "metadata": {},
   "source": [
    "search_by_id= driver.find_element_by_name('searchRegistrePmRcc.registrePm.numPatente')"
   ]
  },
  {
   "cell_type": "code",
   "execution_count": null,
   "metadata": {},
   "outputs": [],
   "source": [
    "send= driver.find_element_by_xpath('//*[@id=\"page\"]/form[1]/div/div[7]/div[2]/div/div/div')\n",
    "# Since the search button doesn't have a suitable attribute we can use, we have to use the xpath"
   ]
  },
  {
   "cell_type": "code",
   "execution_count": null,
   "metadata": {},
   "outputs": [],
   "source": [
    "send.click() # Clicking on the search button"
   ]
  },
  {
   "cell_type": "code",
   "execution_count": null,
   "metadata": {},
   "outputs": [],
   "source": [
    "try:\n",
    "    # If the id is valide the following instructions we be executed\n",
    "    search= driver.find_element_by_xpath('//*[@id=\"page\"]/form[1]/div/div/div/div/table/tbody/tr[8]/td[2]/table/tbody/tr/td[4]')\n",
    "    search.click()\n",
    "    table_data=[] # We will store the data of the table into a list\n",
    "    for row in range (2,8):\n",
    "        l=[]\n",
    "        for column in range (1,5):\n",
    "            xpath=f'//*[@id=\"page\"]/form[1]/div/div/div/div/table/tbody/tr/td/table/tbody/tr/td[2]/table/tbody/tr[1]/td/table[3]/tbody/tr[{row}]/td[{column}]'\n",
    "            l.append(driver.find_element_by_xpath(xpath).text) \n",
    "            # Transforming the selenium object into text and adding it to the list\n",
    "        table_data.append(l)\n",
    "    driver.close() # Closing the webdriver\n",
    "    df= pd.DataFrame(data=table_data) # Transforming the data in the list into a dataframe\n",
    "    print(df)\n",
    "    df.to_excel(fr'C:\\Users\\ilyes\\Desktop\\IdUnique_{ident}.xlsx') \n",
    "    # Saving our dataframe as an excel file (you can also use other formats such as csv)\n",
    "except:\n",
    "    # If the ID is invalide then we print a messge and we close the webdriver\n",
    "    print('votre identifiant est invalide')\n",
    "    driver.close()"
   ]
  },
  {
   "cell_type": "code",
   "execution_count": null,
   "metadata": {},
   "outputs": [],
   "source": []
  }
 ],
 "metadata": {
  "kernelspec": {
   "display_name": "Python 3",
   "language": "python",
   "name": "python3"
  },
  "language_info": {
   "codemirror_mode": {
    "name": "ipython",
    "version": 3
   },
   "file_extension": ".py",
   "mimetype": "text/x-python",
   "name": "python",
   "nbconvert_exporter": "python",
   "pygments_lexer": "ipython3",
   "version": "3.7.6"
  }
 },
 "nbformat": 4,
 "nbformat_minor": 4
}
